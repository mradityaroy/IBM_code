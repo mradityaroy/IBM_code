{
 "cells": [
  {
   "cell_type": "code",
   "execution_count": 266,
   "id": "6be4a3fc",
   "metadata": {},
   "outputs": [
    {
     "data": {
      "text/plain": [
       "'true'"
      ]
     },
     "execution_count": 266,
     "metadata": {},
     "output_type": "execute_result"
    }
   ],
   "source": [
    "s=\"IloveIBM\"\n",
    "word=[\"I\",\"love\",\"IBM\",\"We\"]\n",
    "\n",
    "def checkstring(s,word):\n",
    "    temp=\"\"\n",
    "    for i in word:\n",
    "    #     print(i)\n",
    "    #     if count2\n",
    "        count=0\n",
    "        count2=0\n",
    "        while count<len(s) and count2<len(i):\n",
    "    #         print(count)\n",
    "            if i[count2]==s[count]:\n",
    "                count2=count2+1\n",
    "                if len(i)==count2:\n",
    "                    temp=temp+i\n",
    "            count=count+1\n",
    "\n",
    "    s=list(s)\n",
    "    temp=list(temp)\n",
    "    if sorted(s)==sorted(temp):\n",
    "        return \"true\"\n",
    "    else:\n",
    "        return \"false\"\n",
    "\n",
    "\n",
    "checkstring(s,word)"
   ]
  }
 ],
 "metadata": {
  "kernelspec": {
   "display_name": "Python 3 (ipykernel)",
   "language": "python",
   "name": "python3"
  },
  "language_info": {
   "codemirror_mode": {
    "name": "ipython",
    "version": 3
   },
   "file_extension": ".py",
   "mimetype": "text/x-python",
   "name": "python",
   "nbconvert_exporter": "python",
   "pygments_lexer": "ipython3",
   "version": "3.9.7"
  }
 },
 "nbformat": 4,
 "nbformat_minor": 5
}
